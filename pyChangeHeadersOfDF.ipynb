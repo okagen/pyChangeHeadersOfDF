{
 "cells": [
  {
   "cell_type": "markdown",
   "metadata": {},
   "source": [
    "# Change header names in a DataFrame according to the header list."
   ]
  },
  {
   "cell_type": "markdown",
   "metadata": {},
   "source": [
    "## Define constant and import libraries."
   ]
  },
  {
   "cell_type": "code",
   "execution_count": 59,
   "metadata": {},
   "outputs": [],
   "source": [
    "import pandas as pd\n",
    "\n",
    "csv_encoding = 'Shift_JISx0213'\n",
    "\n",
    "inputFile = '.\\\\Data\\\\H19.csv'\n",
    "headerListFile = '.\\\\Data\\\\HeaderList.csv'\n",
    "\n",
    "headerFrom = 'H19'\n",
    "headerTo = 'H-New'"
   ]
  },
  {
   "cell_type": "markdown",
   "metadata": {},
   "source": [
    "## Read a header name list as DataFrame and remain only the necessary columns."
   ]
  },
  {
   "cell_type": "code",
   "execution_count": 60,
   "metadata": {},
   "outputs": [
    {
     "data": {
      "text/html": [
       "<div>\n",
       "<style scoped>\n",
       "    .dataframe tbody tr th:only-of-type {\n",
       "        vertical-align: middle;\n",
       "    }\n",
       "\n",
       "    .dataframe tbody tr th {\n",
       "        vertical-align: top;\n",
       "    }\n",
       "\n",
       "    .dataframe thead th {\n",
       "        text-align: right;\n",
       "    }\n",
       "</style>\n",
       "<table border=\"1\" class=\"dataframe\">\n",
       "  <thead>\n",
       "    <tr style=\"text-align: right;\">\n",
       "      <th></th>\n",
       "      <th>H-New</th>\n",
       "      <th>H19</th>\n",
       "      <th>H20</th>\n",
       "      <th>H21</th>\n",
       "    </tr>\n",
       "  </thead>\n",
       "  <tbody>\n",
       "    <tr>\n",
       "      <th>0</th>\n",
       "      <td>H-New-C01</td>\n",
       "      <td>H19-C01</td>\n",
       "      <td>H20-C01</td>\n",
       "      <td>NaN</td>\n",
       "    </tr>\n",
       "    <tr>\n",
       "      <th>1</th>\n",
       "      <td>H-New-C02</td>\n",
       "      <td>H19-C02</td>\n",
       "      <td>H20-C02</td>\n",
       "      <td>NaN</td>\n",
       "    </tr>\n",
       "    <tr>\n",
       "      <th>2</th>\n",
       "      <td>H-New-C03</td>\n",
       "      <td>H19-C03</td>\n",
       "      <td>H20-C03</td>\n",
       "      <td>NaN</td>\n",
       "    </tr>\n",
       "    <tr>\n",
       "      <th>3</th>\n",
       "      <td>H-New-C04</td>\n",
       "      <td>H19-C04</td>\n",
       "      <td>H20-C04</td>\n",
       "      <td>NaN</td>\n",
       "    </tr>\n",
       "    <tr>\n",
       "      <th>4</th>\n",
       "      <td>H-New-C05</td>\n",
       "      <td>H19-C05</td>\n",
       "      <td>H20-C05</td>\n",
       "      <td>NaN</td>\n",
       "    </tr>\n",
       "  </tbody>\n",
       "</table>\n",
       "</div>"
      ],
      "text/plain": [
       "       H-New      H19      H20  H21\n",
       "0  H-New-C01  H19-C01  H20-C01  NaN\n",
       "1  H-New-C02  H19-C02  H20-C02  NaN\n",
       "2  H-New-C03  H19-C03  H20-C03  NaN\n",
       "3  H-New-C04  H19-C04  H20-C04  NaN\n",
       "4  H-New-C05  H19-C05  H20-C05  NaN"
      ]
     },
     "metadata": {},
     "output_type": "display_data"
    },
    {
     "data": {
      "text/html": [
       "<div>\n",
       "<style scoped>\n",
       "    .dataframe tbody tr th:only-of-type {\n",
       "        vertical-align: middle;\n",
       "    }\n",
       "\n",
       "    .dataframe tbody tr th {\n",
       "        vertical-align: top;\n",
       "    }\n",
       "\n",
       "    .dataframe thead th {\n",
       "        text-align: right;\n",
       "    }\n",
       "</style>\n",
       "<table border=\"1\" class=\"dataframe\">\n",
       "  <thead>\n",
       "    <tr style=\"text-align: right;\">\n",
       "      <th></th>\n",
       "      <th>H19</th>\n",
       "      <th>H-New</th>\n",
       "    </tr>\n",
       "  </thead>\n",
       "  <tbody>\n",
       "    <tr>\n",
       "      <th>count</th>\n",
       "      <td>29</td>\n",
       "      <td>29</td>\n",
       "    </tr>\n",
       "    <tr>\n",
       "      <th>unique</th>\n",
       "      <td>29</td>\n",
       "      <td>29</td>\n",
       "    </tr>\n",
       "    <tr>\n",
       "      <th>top</th>\n",
       "      <td>H19-C33</td>\n",
       "      <td>H-New-C14</td>\n",
       "    </tr>\n",
       "    <tr>\n",
       "      <th>freq</th>\n",
       "      <td>1</td>\n",
       "      <td>1</td>\n",
       "    </tr>\n",
       "  </tbody>\n",
       "</table>\n",
       "</div>"
      ],
      "text/plain": [
       "            H19      H-New\n",
       "count        29         29\n",
       "unique       29         29\n",
       "top     H19-C33  H-New-C14\n",
       "freq          1          1"
      ]
     },
     "execution_count": 60,
     "metadata": {},
     "output_type": "execute_result"
    }
   ],
   "source": [
    "# ヘッダ名のリストを読み込んでDataFrameに保存する。\n",
    "headerList = pd.read_csv(headerListFile, encoding=csv_encoding)\n",
    "display(headerList.head(5)) \n",
    "\n",
    "# 必要な列飲み残す。変更前（From列）と変更後（To列）\n",
    "headerListFromTo = pd.DataFrame()\n",
    "headerListFromTo = headerListFromTo.append(headerList[[headerFrom, headerTo]])\n",
    "headerListFromTo.describe()"
   ]
  },
  {
   "cell_type": "markdown",
   "metadata": {},
   "source": [
    "## Remain rows without NA value.  If any NA values are present, drop that row. "
   ]
  },
  {
   "cell_type": "code",
   "execution_count": 61,
   "metadata": {},
   "outputs": [
    {
     "data": {
      "text/html": [
       "<div>\n",
       "<style scoped>\n",
       "    .dataframe tbody tr th:only-of-type {\n",
       "        vertical-align: middle;\n",
       "    }\n",
       "\n",
       "    .dataframe tbody tr th {\n",
       "        vertical-align: top;\n",
       "    }\n",
       "\n",
       "    .dataframe thead th {\n",
       "        text-align: right;\n",
       "    }\n",
       "</style>\n",
       "<table border=\"1\" class=\"dataframe\">\n",
       "  <thead>\n",
       "    <tr style=\"text-align: right;\">\n",
       "      <th></th>\n",
       "      <th>H19</th>\n",
       "      <th>H-New</th>\n",
       "    </tr>\n",
       "  </thead>\n",
       "  <tbody>\n",
       "    <tr>\n",
       "      <th>count</th>\n",
       "      <td>19</td>\n",
       "      <td>19</td>\n",
       "    </tr>\n",
       "    <tr>\n",
       "      <th>unique</th>\n",
       "      <td>19</td>\n",
       "      <td>19</td>\n",
       "    </tr>\n",
       "    <tr>\n",
       "      <th>top</th>\n",
       "      <td>H19-C08</td>\n",
       "      <td>H-New-C37</td>\n",
       "    </tr>\n",
       "    <tr>\n",
       "      <th>freq</th>\n",
       "      <td>1</td>\n",
       "      <td>1</td>\n",
       "    </tr>\n",
       "  </tbody>\n",
       "</table>\n",
       "</div>"
      ],
      "text/plain": [
       "            H19      H-New\n",
       "count        19         19\n",
       "unique       19         19\n",
       "top     H19-C08  H-New-C37\n",
       "freq          1          1"
      ]
     },
     "execution_count": 61,
     "metadata": {},
     "output_type": "execute_result"
    }
   ],
   "source": [
    "# NAが一つもない行のみにする。\n",
    "headerListFromTo = headerListFromTo.dropna(how='any')\n",
    "headerListFromTo.describe()"
   ]
  },
  {
   "cell_type": "markdown",
   "metadata": {},
   "source": [
    "##  Set \"headerFrom\" as index to create dictionary which will be used in df.rename(columns=dictionary) later. "
   ]
  },
  {
   "cell_type": "code",
   "execution_count": 62,
   "metadata": {},
   "outputs": [
    {
     "data": {
      "text/html": [
       "<div>\n",
       "<style scoped>\n",
       "    .dataframe tbody tr th:only-of-type {\n",
       "        vertical-align: middle;\n",
       "    }\n",
       "\n",
       "    .dataframe tbody tr th {\n",
       "        vertical-align: top;\n",
       "    }\n",
       "\n",
       "    .dataframe thead th {\n",
       "        text-align: right;\n",
       "    }\n",
       "</style>\n",
       "<table border=\"1\" class=\"dataframe\">\n",
       "  <thead>\n",
       "    <tr style=\"text-align: right;\">\n",
       "      <th></th>\n",
       "      <th>H-New</th>\n",
       "    </tr>\n",
       "    <tr>\n",
       "      <th>H19</th>\n",
       "      <th></th>\n",
       "    </tr>\n",
       "  </thead>\n",
       "  <tbody>\n",
       "    <tr>\n",
       "      <th>H19-C01</th>\n",
       "      <td>H-New-C01</td>\n",
       "    </tr>\n",
       "    <tr>\n",
       "      <th>H19-C02</th>\n",
       "      <td>H-New-C02</td>\n",
       "    </tr>\n",
       "    <tr>\n",
       "      <th>H19-C03</th>\n",
       "      <td>H-New-C03</td>\n",
       "    </tr>\n",
       "    <tr>\n",
       "      <th>H19-C04</th>\n",
       "      <td>H-New-C04</td>\n",
       "    </tr>\n",
       "    <tr>\n",
       "      <th>H19-C05</th>\n",
       "      <td>H-New-C05</td>\n",
       "    </tr>\n",
       "  </tbody>\n",
       "</table>\n",
       "</div>"
      ],
      "text/plain": [
       "             H-New\n",
       "H19               \n",
       "H19-C01  H-New-C01\n",
       "H19-C02  H-New-C02\n",
       "H19-C03  H-New-C03\n",
       "H19-C04  H-New-C04\n",
       "H19-C05  H-New-C05"
      ]
     },
     "metadata": {},
     "output_type": "display_data"
    }
   ],
   "source": [
    "# ヘッダ名変更の際に使用するDictionayを生成する為、From列をDFのIndexに設定する。\n",
    "headerListFromTo = headerListFromTo.set_index(headerFrom)\n",
    "display(headerListFromTo.head(5)) "
   ]
  },
  {
   "cell_type": "markdown",
   "metadata": {},
   "source": [
    "## Create dictionary."
   ]
  },
  {
   "cell_type": "code",
   "execution_count": 64,
   "metadata": {},
   "outputs": [
    {
     "data": {
      "text/plain": [
       "{'H19-C01': 'H-New-C01',\n",
       " 'H19-C02': 'H-New-C02',\n",
       " 'H19-C03': 'H-New-C03',\n",
       " 'H19-C04': 'H-New-C04',\n",
       " 'H19-C05': 'H-New-C05',\n",
       " 'H19-C06': 'H-New-C06',\n",
       " 'H19-C07': 'H-New-C07',\n",
       " 'H19-C08': 'H-New-C08',\n",
       " 'H19-C09': 'H-New-C09',\n",
       " 'H19-C10': 'H-New-C10',\n",
       " 'H19-C31': 'H-New-C31',\n",
       " 'H19-C32': 'H-New-C32',\n",
       " 'H19-C33': 'H-New-C33',\n",
       " 'H19-C34': 'H-New-C34',\n",
       " 'H19-C35': 'H-New-C35',\n",
       " 'H19-C36': 'H-New-C36',\n",
       " 'H19-C37': 'H-New-C37',\n",
       " 'H19-C38': 'H-New-C38',\n",
       " 'H19-C39': 'H-New-C39'}"
      ]
     },
     "metadata": {},
     "output_type": "display_data"
    }
   ],
   "source": [
    "# DFからDictionary生成。\n",
    "headerDictFromTo = headerListFromTo.to_dict()\n",
    "display(headerDictFromTo[headerTo])"
   ]
  },
  {
   "cell_type": "markdown",
   "metadata": {},
   "source": [
    "## Read csv file to be changed header names."
   ]
  },
  {
   "cell_type": "code",
   "execution_count": 65,
   "metadata": {},
   "outputs": [
    {
     "data": {
      "text/html": [
       "<div>\n",
       "<style scoped>\n",
       "    .dataframe tbody tr th:only-of-type {\n",
       "        vertical-align: middle;\n",
       "    }\n",
       "\n",
       "    .dataframe tbody tr th {\n",
       "        vertical-align: top;\n",
       "    }\n",
       "\n",
       "    .dataframe thead th {\n",
       "        text-align: right;\n",
       "    }\n",
       "</style>\n",
       "<table border=\"1\" class=\"dataframe\">\n",
       "  <thead>\n",
       "    <tr style=\"text-align: right;\">\n",
       "      <th></th>\n",
       "      <th>H19-C01</th>\n",
       "      <th>H19-C02</th>\n",
       "      <th>H19-C03</th>\n",
       "      <th>H19-C04</th>\n",
       "      <th>H19-C05</th>\n",
       "      <th>H19-C06</th>\n",
       "      <th>H19-C07</th>\n",
       "      <th>H19-C08</th>\n",
       "      <th>H19-C09</th>\n",
       "      <th>H19-C10</th>\n",
       "      <th>...</th>\n",
       "      <th>H19-C50</th>\n",
       "      <th>H19-C51</th>\n",
       "      <th>H19-C52</th>\n",
       "      <th>H19-C53</th>\n",
       "      <th>H19-C54</th>\n",
       "      <th>H19-C55</th>\n",
       "      <th>H19-C56</th>\n",
       "      <th>H19-C57</th>\n",
       "      <th>H19-C58</th>\n",
       "      <th>H19-C59</th>\n",
       "    </tr>\n",
       "  </thead>\n",
       "  <tbody>\n",
       "    <tr>\n",
       "      <th>0</th>\n",
       "      <td>Data10</td>\n",
       "      <td>Data20</td>\n",
       "      <td>Data30</td>\n",
       "      <td>Data40</td>\n",
       "      <td>Data50</td>\n",
       "      <td>Data60</td>\n",
       "      <td>Data70</td>\n",
       "      <td>Data80</td>\n",
       "      <td>Data90</td>\n",
       "      <td>Data100</td>\n",
       "      <td>...</td>\n",
       "      <td>Data500</td>\n",
       "      <td>Data510</td>\n",
       "      <td>Data520</td>\n",
       "      <td>Data530</td>\n",
       "      <td>Data540</td>\n",
       "      <td>Data550</td>\n",
       "      <td>Data560</td>\n",
       "      <td>Data570</td>\n",
       "      <td>Data580</td>\n",
       "      <td>Data590</td>\n",
       "    </tr>\n",
       "    <tr>\n",
       "      <th>1</th>\n",
       "      <td>Data11</td>\n",
       "      <td>Data21</td>\n",
       "      <td>Data31</td>\n",
       "      <td>Data41</td>\n",
       "      <td>Data51</td>\n",
       "      <td>Data61</td>\n",
       "      <td>Data71</td>\n",
       "      <td>Data81</td>\n",
       "      <td>Data91</td>\n",
       "      <td>Data101</td>\n",
       "      <td>...</td>\n",
       "      <td>Data501</td>\n",
       "      <td>Data511</td>\n",
       "      <td>Data521</td>\n",
       "      <td>Data531</td>\n",
       "      <td>Data541</td>\n",
       "      <td>Data551</td>\n",
       "      <td>Data561</td>\n",
       "      <td>Data571</td>\n",
       "      <td>Data581</td>\n",
       "      <td>Data591</td>\n",
       "    </tr>\n",
       "    <tr>\n",
       "      <th>2</th>\n",
       "      <td>Data12</td>\n",
       "      <td>Data22</td>\n",
       "      <td>Data32</td>\n",
       "      <td>Data42</td>\n",
       "      <td>Data52</td>\n",
       "      <td>Data62</td>\n",
       "      <td>Data72</td>\n",
       "      <td>Data82</td>\n",
       "      <td>Data92</td>\n",
       "      <td>Data102</td>\n",
       "      <td>...</td>\n",
       "      <td>Data502</td>\n",
       "      <td>Data512</td>\n",
       "      <td>Data522</td>\n",
       "      <td>Data532</td>\n",
       "      <td>Data542</td>\n",
       "      <td>Data552</td>\n",
       "      <td>Data562</td>\n",
       "      <td>Data572</td>\n",
       "      <td>Data582</td>\n",
       "      <td>Data592</td>\n",
       "    </tr>\n",
       "  </tbody>\n",
       "</table>\n",
       "<p>3 rows × 59 columns</p>\n",
       "</div>"
      ],
      "text/plain": [
       "  H19-C01 H19-C02 H19-C03 H19-C04 H19-C05 H19-C06 H19-C07 H19-C08 H19-C09  \\\n",
       "0  Data10  Data20  Data30  Data40  Data50  Data60  Data70  Data80  Data90   \n",
       "1  Data11  Data21  Data31  Data41  Data51  Data61  Data71  Data81  Data91   \n",
       "2  Data12  Data22  Data32  Data42  Data52  Data62  Data72  Data82  Data92   \n",
       "\n",
       "   H19-C10  ...  H19-C50  H19-C51  H19-C52  H19-C53  H19-C54  H19-C55  \\\n",
       "0  Data100  ...  Data500  Data510  Data520  Data530  Data540  Data550   \n",
       "1  Data101  ...  Data501  Data511  Data521  Data531  Data541  Data551   \n",
       "2  Data102  ...  Data502  Data512  Data522  Data532  Data542  Data552   \n",
       "\n",
       "   H19-C56  H19-C57  H19-C58  H19-C59  \n",
       "0  Data560  Data570  Data580  Data590  \n",
       "1  Data561  Data571  Data581  Data591  \n",
       "2  Data562  Data572  Data582  Data592  \n",
       "\n",
       "[3 rows x 59 columns]"
      ]
     },
     "metadata": {},
     "output_type": "display_data"
    }
   ],
   "source": [
    "# ヘッダ書き換え対象のCSVを読み込んでDFに保存。\n",
    "df_org = pd.read_csv(inputFile, encoding=csv_encoding)\n",
    "display(df_org.head(3)) "
   ]
  },
  {
   "cell_type": "markdown",
   "metadata": {},
   "source": [
    "## Change the header name."
   ]
  },
  {
   "cell_type": "code",
   "execution_count": 66,
   "metadata": {},
   "outputs": [
    {
     "data": {
      "text/html": [
       "<div>\n",
       "<style scoped>\n",
       "    .dataframe tbody tr th:only-of-type {\n",
       "        vertical-align: middle;\n",
       "    }\n",
       "\n",
       "    .dataframe tbody tr th {\n",
       "        vertical-align: top;\n",
       "    }\n",
       "\n",
       "    .dataframe thead th {\n",
       "        text-align: right;\n",
       "    }\n",
       "</style>\n",
       "<table border=\"1\" class=\"dataframe\">\n",
       "  <thead>\n",
       "    <tr style=\"text-align: right;\">\n",
       "      <th></th>\n",
       "      <th>H-New-C01</th>\n",
       "      <th>H-New-C02</th>\n",
       "      <th>H-New-C03</th>\n",
       "      <th>H-New-C04</th>\n",
       "      <th>H-New-C05</th>\n",
       "      <th>H-New-C06</th>\n",
       "      <th>H-New-C07</th>\n",
       "      <th>H-New-C08</th>\n",
       "      <th>H-New-C09</th>\n",
       "      <th>H-New-C10</th>\n",
       "      <th>...</th>\n",
       "      <th>H19-C50</th>\n",
       "      <th>H19-C51</th>\n",
       "      <th>H19-C52</th>\n",
       "      <th>H19-C53</th>\n",
       "      <th>H19-C54</th>\n",
       "      <th>H19-C55</th>\n",
       "      <th>H19-C56</th>\n",
       "      <th>H19-C57</th>\n",
       "      <th>H19-C58</th>\n",
       "      <th>H19-C59</th>\n",
       "    </tr>\n",
       "  </thead>\n",
       "  <tbody>\n",
       "    <tr>\n",
       "      <th>0</th>\n",
       "      <td>Data10</td>\n",
       "      <td>Data20</td>\n",
       "      <td>Data30</td>\n",
       "      <td>Data40</td>\n",
       "      <td>Data50</td>\n",
       "      <td>Data60</td>\n",
       "      <td>Data70</td>\n",
       "      <td>Data80</td>\n",
       "      <td>Data90</td>\n",
       "      <td>Data100</td>\n",
       "      <td>...</td>\n",
       "      <td>Data500</td>\n",
       "      <td>Data510</td>\n",
       "      <td>Data520</td>\n",
       "      <td>Data530</td>\n",
       "      <td>Data540</td>\n",
       "      <td>Data550</td>\n",
       "      <td>Data560</td>\n",
       "      <td>Data570</td>\n",
       "      <td>Data580</td>\n",
       "      <td>Data590</td>\n",
       "    </tr>\n",
       "    <tr>\n",
       "      <th>1</th>\n",
       "      <td>Data11</td>\n",
       "      <td>Data21</td>\n",
       "      <td>Data31</td>\n",
       "      <td>Data41</td>\n",
       "      <td>Data51</td>\n",
       "      <td>Data61</td>\n",
       "      <td>Data71</td>\n",
       "      <td>Data81</td>\n",
       "      <td>Data91</td>\n",
       "      <td>Data101</td>\n",
       "      <td>...</td>\n",
       "      <td>Data501</td>\n",
       "      <td>Data511</td>\n",
       "      <td>Data521</td>\n",
       "      <td>Data531</td>\n",
       "      <td>Data541</td>\n",
       "      <td>Data551</td>\n",
       "      <td>Data561</td>\n",
       "      <td>Data571</td>\n",
       "      <td>Data581</td>\n",
       "      <td>Data591</td>\n",
       "    </tr>\n",
       "    <tr>\n",
       "      <th>2</th>\n",
       "      <td>Data12</td>\n",
       "      <td>Data22</td>\n",
       "      <td>Data32</td>\n",
       "      <td>Data42</td>\n",
       "      <td>Data52</td>\n",
       "      <td>Data62</td>\n",
       "      <td>Data72</td>\n",
       "      <td>Data82</td>\n",
       "      <td>Data92</td>\n",
       "      <td>Data102</td>\n",
       "      <td>...</td>\n",
       "      <td>Data502</td>\n",
       "      <td>Data512</td>\n",
       "      <td>Data522</td>\n",
       "      <td>Data532</td>\n",
       "      <td>Data542</td>\n",
       "      <td>Data552</td>\n",
       "      <td>Data562</td>\n",
       "      <td>Data572</td>\n",
       "      <td>Data582</td>\n",
       "      <td>Data592</td>\n",
       "    </tr>\n",
       "  </tbody>\n",
       "</table>\n",
       "<p>3 rows × 59 columns</p>\n",
       "</div>"
      ],
      "text/plain": [
       "  H-New-C01 H-New-C02 H-New-C03 H-New-C04 H-New-C05 H-New-C06 H-New-C07  \\\n",
       "0    Data10    Data20    Data30    Data40    Data50    Data60    Data70   \n",
       "1    Data11    Data21    Data31    Data41    Data51    Data61    Data71   \n",
       "2    Data12    Data22    Data32    Data42    Data52    Data62    Data72   \n",
       "\n",
       "  H-New-C08 H-New-C09 H-New-C10  ...  H19-C50  H19-C51  H19-C52  H19-C53  \\\n",
       "0    Data80    Data90   Data100  ...  Data500  Data510  Data520  Data530   \n",
       "1    Data81    Data91   Data101  ...  Data501  Data511  Data521  Data531   \n",
       "2    Data82    Data92   Data102  ...  Data502  Data512  Data522  Data532   \n",
       "\n",
       "   H19-C54  H19-C55  H19-C56  H19-C57  H19-C58  H19-C59  \n",
       "0  Data540  Data550  Data560  Data570  Data580  Data590  \n",
       "1  Data541  Data551  Data561  Data571  Data581  Data591  \n",
       "2  Data542  Data552  Data562  Data572  Data582  Data592  \n",
       "\n",
       "[3 rows x 59 columns]"
      ]
     },
     "metadata": {},
     "output_type": "display_data"
    }
   ],
   "source": [
    "# ヘッダの書き換え。\n",
    "df_changed = df_org.rename(columns=headerDictFromTo[headerTo])\n",
    "display(df_changed.head(3))"
   ]
  },
  {
   "cell_type": "markdown",
   "metadata": {},
   "source": [
    "# Verify result of changing the header names."
   ]
  },
  {
   "cell_type": "markdown",
   "metadata": {},
   "source": [
    "## Invert key and value of header dictionay."
   ]
  },
  {
   "cell_type": "code",
   "execution_count": 67,
   "metadata": {},
   "outputs": [
    {
     "data": {
      "text/plain": [
       "{'H-New-C01': 'H19-C01',\n",
       " 'H-New-C02': 'H19-C02',\n",
       " 'H-New-C03': 'H19-C03',\n",
       " 'H-New-C04': 'H19-C04',\n",
       " 'H-New-C05': 'H19-C05',\n",
       " 'H-New-C06': 'H19-C06',\n",
       " 'H-New-C07': 'H19-C07',\n",
       " 'H-New-C08': 'H19-C08',\n",
       " 'H-New-C09': 'H19-C09',\n",
       " 'H-New-C10': 'H19-C10',\n",
       " 'H-New-C31': 'H19-C31',\n",
       " 'H-New-C32': 'H19-C32',\n",
       " 'H-New-C33': 'H19-C33',\n",
       " 'H-New-C34': 'H19-C34',\n",
       " 'H-New-C35': 'H19-C35',\n",
       " 'H-New-C36': 'H19-C36',\n",
       " 'H-New-C37': 'H19-C37',\n",
       " 'H-New-C38': 'H19-C38',\n",
       " 'H-New-C39': 'H19-C39'}"
      ]
     },
     "metadata": {},
     "output_type": "display_data"
    }
   ],
   "source": [
    "# ヘッダリストのTo列のアイテムが、変更後のヘッダにどれだけ含まれているかを確認する。Dictionaryを使う。\n",
    "headerDictToFrom =  {v:k for k,v in headerDictFromTo[headerTo].items()}\n",
    "display(headerDictToFrom)"
   ]
  },
  {
   "cell_type": "markdown",
   "metadata": {},
   "source": [
    "## Verify result of changing the header names."
   ]
  },
  {
   "cell_type": "code",
   "execution_count": 68,
   "metadata": {},
   "outputs": [
    {
     "name": "stdout",
     "output_type": "stream",
     "text": [
      "Total count of columns =  59\n",
      "Count of unchanged headers =  40\n",
      "Count of changed headers = 19\n"
     ]
    }
   ],
   "source": [
    "# 変更されたヘッダ数、されなかったヘッダ数を数える。\n",
    "countChanged = 0\n",
    "countUnchanged = 0\n",
    "\n",
    "for hdr in df_changed:\n",
    "    key = headerDictToFrom.get(hdr)\n",
    "    if key == None:\n",
    "        countUnchanged += 1\n",
    "    else:\n",
    "        countChanged += 1\n",
    "        \n",
    "print(\"Total count of columns = \", len(df_org.columns))\n",
    "print(\"Count of unchanged headers = \", countUnchanged)\n",
    "print(\"Count of changed headers =\", countChanged)"
   ]
  },
  {
   "cell_type": "markdown",
   "metadata": {},
   "source": [
    "# Set original header names into the 1st row of DF."
   ]
  },
  {
   "cell_type": "markdown",
   "metadata": {},
   "source": [
    "## Get origial headers form the original DF."
   ]
  },
  {
   "cell_type": "code",
   "execution_count": 77,
   "metadata": {},
   "outputs": [
    {
     "data": {
      "text/plain": [
       "Index(['H-New-C01', 'H-New-C02', 'H-New-C03', 'H-New-C04', 'H-New-C05',\n",
       "       'H-New-C06', 'H-New-C07', 'H-New-C08', 'H-New-C09', 'H-New-C10',\n",
       "       'H19-C11', 'H19-C12', 'H19-C13', 'H19-C14', 'H19-C15', 'H19-C16',\n",
       "       'H19-C17', 'H19-C18', 'H19-C19', 'H19-C20', 'H19-C21', 'H19-C22',\n",
       "       'H19-C23', 'H19-C24', 'H19-C25', 'H19-C26', 'H19-C27', 'H19-C28',\n",
       "       'H19-C29', 'H19-C30', 'H-New-C31', 'H-New-C32', 'H-New-C33',\n",
       "       'H-New-C34', 'H-New-C35', 'H-New-C36', 'H-New-C37', 'H-New-C38',\n",
       "       'H-New-C39', 'H19-C40', 'H19-C41', 'H19-C42', 'H19-C43', 'H19-C44',\n",
       "       'H19-C45', 'H19-C46', 'H19-C47', 'H19-C48', 'H19-C49', 'H19-C50',\n",
       "       'H19-C51', 'H19-C52', 'H19-C53', 'H19-C54', 'H19-C55', 'H19-C56',\n",
       "       'H19-C57', 'H19-C58', 'H19-C59'],\n",
       "      dtype='object')"
      ]
     },
     "metadata": {},
     "output_type": "display_data"
    },
    {
     "data": {
      "text/plain": [
       "Index(['H19-C01', 'H19-C02', 'H19-C03', 'H19-C04', 'H19-C05', 'H19-C06',\n",
       "       'H19-C07', 'H19-C08', 'H19-C09', 'H19-C10', 'H19-C11', 'H19-C12',\n",
       "       'H19-C13', 'H19-C14', 'H19-C15', 'H19-C16', 'H19-C17', 'H19-C18',\n",
       "       'H19-C19', 'H19-C20', 'H19-C21', 'H19-C22', 'H19-C23', 'H19-C24',\n",
       "       'H19-C25', 'H19-C26', 'H19-C27', 'H19-C28', 'H19-C29', 'H19-C30',\n",
       "       'H19-C31', 'H19-C32', 'H19-C33', 'H19-C34', 'H19-C35', 'H19-C36',\n",
       "       'H19-C37', 'H19-C38', 'H19-C39', 'H19-C40', 'H19-C41', 'H19-C42',\n",
       "       'H19-C43', 'H19-C44', 'H19-C45', 'H19-C46', 'H19-C47', 'H19-C48',\n",
       "       'H19-C49', 'H19-C50', 'H19-C51', 'H19-C52', 'H19-C53', 'H19-C54',\n",
       "       'H19-C55', 'H19-C56', 'H19-C57', 'H19-C58', 'H19-C59'],\n",
       "      dtype='object')"
      ]
     },
     "metadata": {},
     "output_type": "display_data"
    }
   ],
   "source": [
    "# オリジナルのヘッダを取得\n",
    "headers_changed = df_changed.columns\n",
    "display(headers_changed)\n",
    "headers_org = df_org.columns\n",
    "display(headers_org)"
   ]
  },
  {
   "cell_type": "markdown",
   "metadata": {},
   "source": [
    "## Set the original headers into the 1st row."
   ]
  },
  {
   "cell_type": "code",
   "execution_count": 97,
   "metadata": {},
   "outputs": [
    {
     "data": {
      "text/html": [
       "<div>\n",
       "<style scoped>\n",
       "    .dataframe tbody tr th:only-of-type {\n",
       "        vertical-align: middle;\n",
       "    }\n",
       "\n",
       "    .dataframe tbody tr th {\n",
       "        vertical-align: top;\n",
       "    }\n",
       "\n",
       "    .dataframe thead th {\n",
       "        text-align: right;\n",
       "    }\n",
       "</style>\n",
       "<table border=\"1\" class=\"dataframe\">\n",
       "  <thead>\n",
       "    <tr style=\"text-align: right;\">\n",
       "      <th></th>\n",
       "      <th>H-New-C01</th>\n",
       "      <th>H-New-C02</th>\n",
       "      <th>H-New-C03</th>\n",
       "      <th>H-New-C04</th>\n",
       "      <th>H-New-C05</th>\n",
       "      <th>H-New-C06</th>\n",
       "      <th>H-New-C07</th>\n",
       "      <th>H-New-C08</th>\n",
       "      <th>H-New-C09</th>\n",
       "      <th>H-New-C10</th>\n",
       "      <th>...</th>\n",
       "      <th>H19-C50</th>\n",
       "      <th>H19-C51</th>\n",
       "      <th>H19-C52</th>\n",
       "      <th>H19-C53</th>\n",
       "      <th>H19-C54</th>\n",
       "      <th>H19-C55</th>\n",
       "      <th>H19-C56</th>\n",
       "      <th>H19-C57</th>\n",
       "      <th>H19-C58</th>\n",
       "      <th>H19-C59</th>\n",
       "    </tr>\n",
       "  </thead>\n",
       "  <tbody>\n",
       "    <tr>\n",
       "      <th>0</th>\n",
       "      <td>H19-C01</td>\n",
       "      <td>H19-C02</td>\n",
       "      <td>H19-C03</td>\n",
       "      <td>H19-C04</td>\n",
       "      <td>H19-C05</td>\n",
       "      <td>H19-C06</td>\n",
       "      <td>H19-C07</td>\n",
       "      <td>H19-C08</td>\n",
       "      <td>H19-C09</td>\n",
       "      <td>H19-C10</td>\n",
       "      <td>...</td>\n",
       "      <td>H19-C50</td>\n",
       "      <td>H19-C51</td>\n",
       "      <td>H19-C52</td>\n",
       "      <td>H19-C53</td>\n",
       "      <td>H19-C54</td>\n",
       "      <td>H19-C55</td>\n",
       "      <td>H19-C56</td>\n",
       "      <td>H19-C57</td>\n",
       "      <td>H19-C58</td>\n",
       "      <td>H19-C59</td>\n",
       "    </tr>\n",
       "    <tr>\n",
       "      <th>1</th>\n",
       "      <td>Data10</td>\n",
       "      <td>Data20</td>\n",
       "      <td>Data30</td>\n",
       "      <td>Data40</td>\n",
       "      <td>Data50</td>\n",
       "      <td>Data60</td>\n",
       "      <td>Data70</td>\n",
       "      <td>Data80</td>\n",
       "      <td>Data90</td>\n",
       "      <td>Data100</td>\n",
       "      <td>...</td>\n",
       "      <td>Data500</td>\n",
       "      <td>Data510</td>\n",
       "      <td>Data520</td>\n",
       "      <td>Data530</td>\n",
       "      <td>Data540</td>\n",
       "      <td>Data550</td>\n",
       "      <td>Data560</td>\n",
       "      <td>Data570</td>\n",
       "      <td>Data580</td>\n",
       "      <td>Data590</td>\n",
       "    </tr>\n",
       "    <tr>\n",
       "      <th>2</th>\n",
       "      <td>Data11</td>\n",
       "      <td>Data21</td>\n",
       "      <td>Data31</td>\n",
       "      <td>Data41</td>\n",
       "      <td>Data51</td>\n",
       "      <td>Data61</td>\n",
       "      <td>Data71</td>\n",
       "      <td>Data81</td>\n",
       "      <td>Data91</td>\n",
       "      <td>Data101</td>\n",
       "      <td>...</td>\n",
       "      <td>Data501</td>\n",
       "      <td>Data511</td>\n",
       "      <td>Data521</td>\n",
       "      <td>Data531</td>\n",
       "      <td>Data541</td>\n",
       "      <td>Data551</td>\n",
       "      <td>Data561</td>\n",
       "      <td>Data571</td>\n",
       "      <td>Data581</td>\n",
       "      <td>Data591</td>\n",
       "    </tr>\n",
       "  </tbody>\n",
       "</table>\n",
       "<p>3 rows × 59 columns</p>\n",
       "</div>"
      ],
      "text/plain": [
       "  H-New-C01 H-New-C02 H-New-C03 H-New-C04 H-New-C05 H-New-C06 H-New-C07  \\\n",
       "0   H19-C01   H19-C02   H19-C03   H19-C04   H19-C05   H19-C06   H19-C07   \n",
       "1    Data10    Data20    Data30    Data40    Data50    Data60    Data70   \n",
       "2    Data11    Data21    Data31    Data41    Data51    Data61    Data71   \n",
       "\n",
       "  H-New-C08 H-New-C09 H-New-C10  ...  H19-C50  H19-C51  H19-C52  H19-C53  \\\n",
       "0   H19-C08   H19-C09   H19-C10  ...  H19-C50  H19-C51  H19-C52  H19-C53   \n",
       "1    Data80    Data90   Data100  ...  Data500  Data510  Data520  Data530   \n",
       "2    Data81    Data91   Data101  ...  Data501  Data511  Data521  Data531   \n",
       "\n",
       "   H19-C54  H19-C55  H19-C56  H19-C57  H19-C58  H19-C59  \n",
       "0  H19-C54  H19-C55  H19-C56  H19-C57  H19-C58  H19-C59  \n",
       "1  Data540  Data550  Data560  Data570  Data580  Data590  \n",
       "2  Data541  Data551  Data561  Data571  Data581  Data591  \n",
       "\n",
       "[3 rows x 59 columns]"
      ]
     },
     "metadata": {},
     "output_type": "display_data"
    }
   ],
   "source": [
    "# オリジナルのヘッダをDFの1行目に追加\n",
    "df_2headers = pd.DataFrame([headers_org], columns=headers_changed)\n",
    "df_2headers = df_2headers.append(df_changed)\n",
    "df_2headers = df_2headers.reset_index(drop=True)\n",
    "display(df_2headers.head(3))"
   ]
  },
  {
   "cell_type": "markdown",
   "metadata": {},
   "source": [
    "## Verify the count of rows incleased 1."
   ]
  },
  {
   "cell_type": "code",
   "execution_count": 109,
   "metadata": {},
   "outputs": [
    {
     "name": "stdout",
     "output_type": "stream",
     "text": [
      "The count of rows of original csv data. :  10\n"
     ]
    }
   ],
   "source": [
    "print('The count of rows of original csv data = ', len(df_org))\n",
    "print('The count of rows of original csv data = ', len(df_org))"
   ]
  },
  {
   "cell_type": "code",
   "execution_count": null,
   "metadata": {},
   "outputs": [],
   "source": []
  }
 ],
 "metadata": {
  "kernelspec": {
   "display_name": "Python 3",
   "language": "python",
   "name": "python3"
  },
  "language_info": {
   "codemirror_mode": {
    "name": "ipython",
    "version": 3
   },
   "file_extension": ".py",
   "mimetype": "text/x-python",
   "name": "python",
   "nbconvert_exporter": "python",
   "pygments_lexer": "ipython3",
   "version": "3.6.5"
  }
 },
 "nbformat": 4,
 "nbformat_minor": 2
}
